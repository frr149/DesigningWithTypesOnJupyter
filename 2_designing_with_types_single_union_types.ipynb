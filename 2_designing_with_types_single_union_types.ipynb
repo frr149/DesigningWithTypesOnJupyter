{
 "cells": [
  {
   "cell_type": "markdown",
   "metadata": {},
   "source": [
    "# Designing with types: Single case union types\n",
    "##### Adding meaning to primitive types\n",
    "\n",
    "At the end of the previous post, we had values for email addresses, zip codes, etc., defined like this:\n",
    "\n",
    "```\n",
    "\n",
    "EmailAddress: string;\n",
    "State: string;\n",
    "Zip: string;\n",
    "\n",
    "\n",
    "```\n",
    "\n",
    "These are all defined as simple strings. But really, are they just strings? Is an email address interchangeable with a zip code or a state abbreviation?\n",
    "\n",
    "In a domain driven design, they are indeed distinct things, not just strings. So we would ideally like to have lots of separate types for them so that they cannot accidentally be mixed up.\n",
    "\n",
    "This has been known as good practice for a long time, but in languages like C# and Java it can be painful to create hundred of tiny types like this, leading to the so called “primitive obsession” code smell.\n",
    "\n",
    "But F# there is no excuse! It is trivial to create simple wrapper types.\n",
    "\n",
    "### Wrapping primitive types\n",
    "\n",
    "The simplest way to create a separate type is to wrap the underlying string type inside another type.\n",
    "\n",
    "We can do it using single case union types, like so:\n"
   ]
  },
  {
   "cell_type": "code",
   "execution_count": 1,
   "metadata": {},
   "outputs": [],
   "source": [
    "type EmailAddress = EmailAddress of string\n",
    "type ZipCode = ZipCode of string\n",
    "type StateCode = StateCode of string"
   ]
  },
  {
   "cell_type": "markdown",
   "metadata": {},
   "source": [
    "or alternatively, we could use record types with one field, like this:"
   ]
  },
  {
   "cell_type": "code",
   "execution_count": 2,
   "metadata": {},
   "outputs": [],
   "source": [
    "type EmailAddress = { EmailAddress: string }\n",
    "type ZipCode = { ZipCode: string }\n",
    "type StateCode = { StateCode: string}"
   ]
  },
  {
   "cell_type": "markdown",
   "metadata": {},
   "source": [
    "Both approaches can be used to create wrapper types around a string or other primitive type, so which way is better?\n",
    "\n",
    "The answer is generally the single case discriminated union. It is much easier to “wrap” and “unwrap”, as the “union case” is actually a proper constructor function in its own right. Unwrapping can be done using inline pattern matching.\n",
    "\n",
    "Here’s some examples of how an EmailAddress type might be constructed and deconstructed:"
   ]
  },
  {
   "cell_type": "code",
   "execution_count": 3,
   "metadata": {},
   "outputs": [],
   "source": [
    "type EmailAddress = EmailAddress of string\n",
    "\n",
    "// using the constructor as a function\n",
    "\"a\" |> EmailAddress\n",
    "[\"a\"; \"b\"; \"c\"] |> List.map EmailAddress\n",
    "\n",
    "// inline deconstruction\n",
    "let a' = \"a\" |> EmailAddress\n",
    "let (EmailAddress a'') = a'\n",
    "\n",
    "let addresses = \n",
    "    [\"a\"; \"b\"; \"c\"] \n",
    "    |> List.map EmailAddress\n",
    "\n",
    "let addresses' = \n",
    "    addresses\n",
    "    |> List.map (fun (EmailAddress e) -> e)\n"
   ]
  },
  {
   "cell_type": "markdown",
   "metadata": {},
   "source": [
    "You can’t do this as easily using record types.\n",
    "\n",
    "So, let’s refactor the code again to use these union types. It now looks like this:"
   ]
  },
  {
   "cell_type": "code",
   "execution_count": 4,
   "metadata": {},
   "outputs": [],
   "source": [
    "type PersonalName = \n",
    "    {\n",
    "        FirstName: string;\n",
    "        MiddleInitial: string option;\n",
    "        LastName: string;\n",
    "    }\n",
    "\n",
    "type EmailAddress = EmailAddress of string\n",
    "\n",
    "type EmailContactInfo = \n",
    "    {\n",
    "        EmailAddress: EmailAddress;\n",
    "        IsEmailVerified: bool;\n",
    "    }\n",
    "\n",
    "type ZipCode = ZipCode of string\n",
    "type StateCode = StateCode of string\n",
    "\n",
    "type PostalAddress = \n",
    "    {\n",
    "        Address1: string;\n",
    "        Address2: string;\n",
    "        City: string;\n",
    "        State: StateCode;\n",
    "        Zip: ZipCode;\n",
    "    }\n",
    "\n",
    "type PostalContactInfo = \n",
    "    {\n",
    "        Address: PostalAddress;\n",
    "        IsAddressValid: bool;\n",
    "    }\n",
    "\n",
    "type Contact = \n",
    "    {\n",
    "        Name: PersonalName;\n",
    "        EmailContactInfo: EmailContactInfo;\n",
    "        PostalContactInfo: PostalContactInfo;\n",
    "    }"
   ]
  },
  {
   "cell_type": "markdown",
   "metadata": {},
   "source": [
    "Another nice thing about the union type is that the implementation can be encapsulated with module signatures, as we’ll discuss below.\n",
    "\n",
    "### Naming the “case” of a single case union\n",
    "\n",
    "In the examples above we used the same name for the case as we did for the type:"
   ]
  },
  {
   "cell_type": "code",
   "execution_count": 5,
   "metadata": {},
   "outputs": [],
   "source": [
    "type EmailAddress = EmailAddress of string\n",
    "type ZipCode = ZipCode of string\n",
    "type StateCode = StateCode of string"
   ]
  },
  {
   "cell_type": "markdown",
   "metadata": {},
   "source": [
    "This might seem confusing initially, but really they are in different scopes, so there is no naming collision. One is a type, and one is a constructor function with the same name.\n",
    "\n",
    "So if you see a function signature like this:"
   ]
  },
  {
   "cell_type": "code",
   "execution_count": 6,
   "metadata": {},
   "outputs": [],
   "source": [
    "val f: string -> EmailAddress"
   ]
  },
  {
   "cell_type": "markdown",
   "metadata": {},
   "source": [
    "this refers to things in the world of types, so `EmailAddress` refers to the type.\n",
    "\n",
    "On the other hand, if you see some code like this:"
   ]
  },
  {
   "cell_type": "code",
   "execution_count": 12,
   "metadata": {},
   "outputs": [
    {
     "name": "stdout",
     "output_type": "stream",
     "text": [
      "EmailAddress \"abc@xyz.com\"\n"
     ]
    },
    {
     "data": {
      "text/html": [
       "<null>"
      ]
     },
     "execution_count": 12,
     "metadata": {},
     "output_type": "execute_result"
    }
   ],
   "source": [
    "let y = \"abc@xyz.com\"\n",
    "let x = EmailAddress y\n",
    "\n",
    "printfn \"%A\" x"
   ]
  },
  {
   "cell_type": "markdown",
   "metadata": {},
   "source": [
    "this refers to things in the world of values, so `EmailAddress` refers to the constructor function.\n",
    "\n",
    "### Constructing single case unions\n",
    "\n",
    "For values that have special meaning, such as email addresses and zip codes, generally only certain values are allowed. Not every string is an acceptable email or zip code.\n",
    "\n",
    "This implies that we will need to do validation at some point, and what better point than at construction time? After all, once the value is constructed, it is immutable, so there is no worry that someone might modify it later.\n",
    "\n",
    "Here’s how we might extend the above module with some constructor functions:"
   ]
  },
  {
   "cell_type": "code",
   "execution_count": 13,
   "metadata": {},
   "outputs": [],
   "source": [
    "let CreateEmailAddress (s:string) = \n",
    "    if System.Text.RegularExpressions.Regex.IsMatch(s,@\"^\\S+@\\S+\\.\\S+$\") \n",
    "        then Some (EmailAddress s)\n",
    "        else None\n",
    "\n",
    "let CreateStateCode (s:string) = \n",
    "    let s' = s.ToUpper()\n",
    "    let stateCodes = [\"AZ\";\"CA\";\"NY\"] //etc\n",
    "    if stateCodes |> List.exists ((=) s')\n",
    "        then Some (StateCode s')\n",
    "        else None"
   ]
  },
  {
   "cell_type": "markdown",
   "metadata": {},
   "source": [
    "We can test the constructors now:"
   ]
  },
  {
   "cell_type": "code",
   "execution_count": 19,
   "metadata": {},
   "outputs": [
    {
     "name": "stdout",
     "output_type": "stream",
     "text": [
      "Some (StateCode \"CA\")\n",
      "<null>\n",
      "Some (EmailAddress \"a@example.com\")\n",
      "<null>\n"
     ]
    },
    {
     "data": {
      "text/html": [
       "<null>"
      ]
     },
     "execution_count": 19,
     "metadata": {},
     "output_type": "execute_result"
    }
   ],
   "source": [
    "printfn \"%A\" <| CreateStateCode \"CA\"\n",
    "\n",
    "printfn \"%A\" <| CreateStateCode \"XX\"\n",
    "\n",
    "printfn \"%A\" <| CreateEmailAddress \"a@example.com\"\n",
    "printfn \"%A\" <| CreateEmailAddress \"example.com\""
   ]
  },
  {
   "cell_type": "markdown",
   "metadata": {},
   "source": [
    "### Handling invalid input in a constructor\n",
    "\n",
    "With these kinds of constructor functions, one immediate challenge is the question of how to handle invalid input. For example, what should happen if I pass in “abc” to the email address constructor?\n",
    "\n",
    "There are a number of ways to deal with it.\n",
    "\n",
    "First, you could throw an exception. I find this ugly and unimaginative, so I’m rejecting this one out of hand!\n",
    "\n",
    "Next, you could return an option type, with None meaning that the input wasn’t valid. This is what the constructor functions above do.\n",
    "\n",
    "This is generally the easiest approach. It has the advantage that the caller has to explicitly handle the case when the value is not valid.\n",
    "\n",
    "For example, the caller’s code for the example above might look like:\n",
    "\n",
    "```\n",
    "match (CreateEmailAddress \"a@example.com\") with\n",
    "| Some email -> ... do something with email\n",
    "| None -> ... ignore?\n",
    "\n",
    "```\n",
    "\n",
    "The disadvantage is that with complex validations, it might not be obvious what went wrong. Was the email too long, or missing a ‘@’ sign, or an invalid domain? We can’t tell.\n",
    "\n",
    "If you do need more detail, you might want to return a type which contains a more detailed explanation in the error case.\n",
    "\n",
    "The following example uses a `CreationResult` type to indicate the error in the failure case."
   ]
  },
  {
   "cell_type": "code",
   "execution_count": 26,
   "metadata": {},
   "outputs": [
    {
     "name": "stdout",
     "output_type": "stream",
     "text": [
      "Error \"Email address must contain an @ sign\"\n"
     ]
    },
    {
     "data": {
      "text/html": [
       "<null>"
      ]
     },
     "execution_count": 26,
     "metadata": {},
     "output_type": "execute_result"
    }
   ],
   "source": [
    "type EmailAddress = EmailAddress of string\n",
    "type CreationResult<'T> = Success of 'T | Error of string            \n",
    "\n",
    "let CreateEmailAddress2 (s:string) = \n",
    "    if System.Text.RegularExpressions.Regex.IsMatch(s,@\"^\\S+@\\S+\\.\\S+$\") \n",
    "        then Success (EmailAddress s)\n",
    "        else Error \"Email address must contain an @ sign\"\n",
    "\n",
    "// test\n",
    "printfn \"%A\" <| CreateEmailAddress2 \"example.com\""
   ]
  },
  {
   "cell_type": "markdown",
   "metadata": {},
   "source": [
    "Finally, the most general approach uses continuations. That is, you pass in two functions, one for the success case (that takes the newly constructed email as parameter), and another for the failure case (that takes the error string as parameter)."
   ]
  },
  {
   "cell_type": "code",
   "execution_count": 20,
   "metadata": {},
   "outputs": [],
   "source": [
    "type EmailAddress = EmailAddress of string\n",
    "\n",
    "let CreateEmailAddressWithContinuations success failure (s:string) = \n",
    "    if System.Text.RegularExpressions.Regex.IsMatch(s,@\"^\\S+@\\S+\\.\\S+$\") \n",
    "        then success (EmailAddress s)\n",
    "        else failure \"Email address must contain an @ sign\""
   ]
  },
  {
   "cell_type": "markdown",
   "metadata": {},
   "source": [
    "The success function takes the email as a parameter and the error function takes a string. Both functions must return the same type, but the type is up to you.\n",
    "\n",
    "Here is a simple example – both functions do a printf, and return nothing (i.e. unit)."
   ]
  },
  {
   "cell_type": "code",
   "execution_count": 21,
   "metadata": {},
   "outputs": [
    {
     "name": "stdout",
     "output_type": "stream",
     "text": [
      "error creating email: Email address must contain an @ sign\n",
      "success creating email x@example.com\n"
     ]
    },
    {
     "data": {
      "text/html": [
       "<null>"
      ]
     },
     "execution_count": 21,
     "metadata": {},
     "output_type": "execute_result"
    }
   ],
   "source": [
    "let success (EmailAddress s) = printfn \"success creating email %s\" s        \n",
    "let failure  msg = printfn \"error creating email: %s\" msg\n",
    "CreateEmailAddressWithContinuations success failure \"example.com\"\n",
    "CreateEmailAddressWithContinuations success failure \"x@example.com\""
   ]
  },
  {
   "cell_type": "markdown",
   "metadata": {},
   "source": [
    "With continuations, you can easily reproduce any of the other approaches. Here’s the way to create options, for example. In this case both functions return an `EmailAddress option`."
   ]
  },
  {
   "cell_type": "code",
   "execution_count": 22,
   "metadata": {},
   "outputs": [
    {
     "data": {
      "text/html": [
       "<table><thead><tr><th>Value</th></tr></thead><tbody><tr><td>{ FSI_0022+EmailAddress: Tag: 0, Item: x@example.com }</td></tr></tbody></table>"
      ]
     },
     "execution_count": 22,
     "metadata": {},
     "output_type": "execute_result"
    }
   ],
   "source": [
    "let success e = Some e\n",
    "let failure _  = None\n",
    "CreateEmailAddressWithContinuations success failure \"example.com\"\n",
    "CreateEmailAddressWithContinuations success failure \"x@example.com\""
   ]
  },
  {
   "cell_type": "markdown",
   "metadata": {},
   "source": [
    "And here is the way to throw exceptions in the error case:"
   ]
  },
  {
   "cell_type": "code",
   "execution_count": 23,
   "metadata": {},
   "outputs": [
    {
     "ename": "Unhandled Exception",
     "evalue": "bad email address",
     "output_type": "error",
     "traceback": [
      "Unhandled Exception",
      "bad email address",
      "   at FSI_0025.clo@3-6.Invoke(String arg00@)",
      "   at <StartupCode$FSI_0025>.$FSI_0025.main@()"
     ]
    }
   ],
   "source": [
    "let success e = e\n",
    "let failure _  = failwith \"bad email address\"\n",
    "CreateEmailAddressWithContinuations success failure \"example.com\"\n",
    "CreateEmailAddressWithContinuations success failure \"x@example.com\""
   ]
  },
  {
   "cell_type": "markdown",
   "metadata": {},
   "source": [
    "This code seems quite cumbersome, but in practice you would probably create a local partially applied function that you use instead of the long-winded one."
   ]
  },
  {
   "cell_type": "code",
   "execution_count": 25,
   "metadata": {},
   "outputs": [
    {
     "name": "stdout",
     "output_type": "stream",
     "text": [
      "Some (EmailAddress \"x@example.com\")\n",
      "<null>\n"
     ]
    },
    {
     "data": {
      "text/html": [
       "<null>"
      ]
     },
     "execution_count": 25,
     "metadata": {},
     "output_type": "execute_result"
    }
   ],
   "source": [
    "// setup a partially applied function\n",
    "let success e = Some e\n",
    "let failure _  = None\n",
    "let createEmail = CreateEmailAddressWithContinuations success failure\n",
    "\n",
    "// use the partially applied function\n",
    "printfn \"%A\" <| createEmail \"x@example.com\"\n",
    "printfn \"%A\" <| createEmail \"example.com\""
   ]
  },
  {
   "cell_type": "markdown",
   "metadata": {},
   "source": [
    "### Creating modules for wrapper types\n",
    "These simple wrapper types are starting to get more complicated now that we are adding validations, and we will probably discover other functions that we want to associate with the type.\n",
    "\n",
    "So it is probably a good idea to create a module for each wrapper type, and put the type and its associated functions there."
   ]
  },
  {
   "cell_type": "code",
   "execution_count": 27,
   "metadata": {},
   "outputs": [],
   "source": [
    "module EmailAddress = \n",
    "\n",
    "    type T = EmailAddress of string\n",
    "\n",
    "    // wrap\n",
    "    let create (s:string) = \n",
    "        if System.Text.RegularExpressions.Regex.IsMatch(s,@\"^\\S+@\\S+\\.\\S+$\") \n",
    "            then Some (EmailAddress s)\n",
    "            else None\n",
    "    \n",
    "    // unwrap\n",
    "    let value (EmailAddress e) = e"
   ]
  },
  {
   "cell_type": "markdown",
   "metadata": {},
   "source": [
    "The users of the type would then use the module functions to create and unwrap the type. For example:"
   ]
  },
  {
   "cell_type": "code",
   "execution_count": 29,
   "metadata": {},
   "outputs": [
    {
     "name": "stdout",
     "output_type": "stream",
     "text": [
      "the value is x@example.com\n"
     ]
    },
    {
     "data": {
      "text/html": [
       "<null>"
      ]
     },
     "execution_count": 29,
     "metadata": {},
     "output_type": "execute_result"
    }
   ],
   "source": [
    "\n",
    "// create email addresses\n",
    "let address1 = EmailAddress.create \"x@example.com\"\n",
    "let address2 = EmailAddress.create \"example.com\"\n",
    "\n",
    "// unwrap an email address\n",
    "match address1 with\n",
    "| Some e -> EmailAddress.value e |> printfn \"the value is %s\"\n",
    "| None -> ()"
   ]
  },
  {
   "cell_type": "markdown",
   "metadata": {},
   "source": [
    "### Forcing use of the constructor\n",
    "\n",
    "One issue is that you cannot force callers to use the constructor. Someone could just bypass the validation and create the type directly.\n",
    "\n",
    "In practice, that tends not to be a problem. One simple techinique is to use naming conventions to indicate a “private” type, and provide “wrap” and “unwrap” functions so that the clients never need to interact with the type directly.\n",
    "\n",
    "Here’s an example:"
   ]
  },
  {
   "cell_type": "code",
   "execution_count": 30,
   "metadata": {},
   "outputs": [],
   "source": [
    "\n",
    "module EmailAddress = \n",
    "\n",
    "    // private type\n",
    "    type _T = EmailAddress of string\n",
    "\n",
    "    // wrap\n",
    "    let create (s:string) = \n",
    "        if System.Text.RegularExpressions.Regex.IsMatch(s,@\"^\\S+@\\S+\\.\\S+$\") \n",
    "            then Some (EmailAddress s)\n",
    "            else None\n",
    "    \n",
    "    // unwrap\n",
    "    let value (EmailAddress e) = e"
   ]
  },
  {
   "cell_type": "markdown",
   "metadata": {},
   "source": [
    "Of course the type is not really private in this case, but you are encouraging the callers to always use the “published” functions.\n",
    "\n",
    "If you really want to encapsulate the internals of the type and force callers to use a constructor function, you can use module signatures.\n",
    "\n",
    "Here’s a signature file for the email address example:"
   ]
  },
  {
   "cell_type": "code",
   "execution_count": 31,
   "metadata": {},
   "outputs": [],
   "source": [
    "module EmailAddress  \n",
    "\n",
    "// encapsulated type\n",
    "type T\n",
    "\n",
    "// wrap\n",
    "val create : string -> T option\n",
    "    \n",
    "// unwrap\n",
    "val value : T -> string"
   ]
  },
  {
   "cell_type": "markdown",
   "metadata": {},
   "source": [
    "(Note that module signatures only work in compiled projects, not in interactive scripts, so to test this, you will need to create three files in an F# project, with the filenames as shown here.)\n",
    "\n",
    "Here’s the implementation file:"
   ]
  },
  {
   "cell_type": "code",
   "execution_count": 32,
   "metadata": {},
   "outputs": [],
   "source": [
    "module EmailAddress  \n",
    "\n",
    "// encapsulated type\n",
    "type T = EmailAddress of string\n",
    "\n",
    "// wrap\n",
    "let create (s:string) = \n",
    "    if System.Text.RegularExpressions.Regex.IsMatch(s,@\"^\\S+@\\S+\\.\\S+$\") \n",
    "        then Some (EmailAddress s)\n",
    "        else None\n",
    "    \n",
    "// unwrap\n",
    "let value (EmailAddress e) = e"
   ]
  },
  {
   "cell_type": "markdown",
   "metadata": {},
   "source": [
    "And here’s a client:"
   ]
  },
  {
   "cell_type": "code",
   "execution_count": 37,
   "metadata": {},
   "outputs": [],
   "source": [
    "module EmailAddressClient\n",
    "\n",
    "open EmailAddress\n",
    "\n",
    "// code works when using the published functions\n",
    "let address1 = EmailAddress.create \"x@example.com\"\n",
    "let address2 = EmailAddress.create \"example.com\"\n",
    "\n",
    "// code that uses the internals of the type fails to compile\n",
    "let address3 = T.EmailAddress \"bad email\""
   ]
  },
  {
   "cell_type": "markdown",
   "metadata": {},
   "source": [
    "The type `EmailAddress.T` exported by the module signature is opaque, so clients cannot access the internals.\n",
    "\n",
    "As you can see, this approach enforces the use of the constructor. Trying to create the type directly `(T.EmailAddress \"bad email\")` causes a compile error."
   ]
  },
  {
   "cell_type": "markdown",
   "metadata": {},
   "source": [
    "### When to “wrap” single case unions\n",
    "\n",
    "Now that we have the wrapper type, when should we construct them?\n",
    "\n",
    "Generally you only need to at service boundaries (for example, boundaries in a hexagonal architecture)\n",
    "\n",
    "In this approach, wrapping is done in the UI layer, or when loading from a persistence layer, and once the wrapped type is created, it is passed in to the domain layer and manipulated “whole”, as an opaque type. It is surprisingly uncommon that you actually need the wrapped contents directly when working in the domain itself.\n",
    "\n",
    "As part of the construction, it is critical that the caller uses the provided constructor rather than doing its own validation logic. This ensures that “bad” values can never enter the domain.\n",
    "\n",
    "For example, here is some code that shows the UI doing its own validation:\n",
    "\n",
    "```\n",
    "let processFormSubmit () = \n",
    "    let s = uiTextBox.Text\n",
    "    if (s.Length < 50) \n",
    "        then // set email on domain object\n",
    "        else // show validation error message\n",
    "```\n",
    "\n",
    "A better way is to let the constructor do it, as shown earlier.\n",
    "\n",
    "```\n",
    "let processFormSubmit () = \n",
    "    let emailOpt = uiTextBox.Text |> EmailAddress.create \n",
    "    match emailOpt with\n",
    "    | Some email -> // set email on domain object\n",
    "    | None -> // show validation error message\n",
    "\n",
    "```"
   ]
  },
  {
   "cell_type": "markdown",
   "metadata": {},
   "source": [
    "### When to “unwrap” single case unions\n",
    "\n",
    "And when is unwrapping needed? Again, generally only at service boundaries. For example, when you are persisting an email to a database, or binding to a UI element or view model.\n",
    "\n",
    "One tip to avoid explicit unwrapping is to use the continuation approach again, passing in a function that will be applied to the wrapped value.\n",
    "\n",
    "That is, rather than calling the “unwrap” function explicitly:\n",
    "\n",
    "```\n",
    "address |> EmailAddress.value |> printfn \"the value is %s\" \n",
    "```\n",
    "\n",
    "You would pass in a function which gets applied to the inner value, like this:\n",
    "\n",
    "```\n",
    "address |> EmailAddress.apply (printfn \"the value is %s\")\n",
    "```\n",
    "\n",
    "Putting this together, we now have the complete `EmailAddress` module."
   ]
  },
  {
   "cell_type": "code",
   "execution_count": 47,
   "metadata": {},
   "outputs": [],
   "source": [
    "module EmailAddress = \n",
    "\n",
    "    type _T = EmailAddress of string\n",
    "\n",
    "    // create with continuation\n",
    "    let createWithCont success failure (s:string) = \n",
    "        if System.Text.RegularExpressions.Regex.IsMatch(s,@\"^\\S+@\\S+\\.\\S+$\") \n",
    "            then success (EmailAddress s)\n",
    "            else failure \"Email address must contain an @ sign\"\n",
    "\n",
    "    // create directly\n",
    "    let create s = \n",
    "        let success e = Some e\n",
    "        let failure _  = None\n",
    "        createWithCont success failure s\n",
    "\n",
    "    // unwrap with continuation\n",
    "    let apply f (EmailAddress e) = f e\n",
    "\n",
    "    // unwrap directly\n",
    "    let value e = apply id e\n"
   ]
  },
  {
   "cell_type": "markdown",
   "metadata": {},
   "source": [
    "The `create` and `value` functions are not strictly necessary, but are added for the convenience of callers."
   ]
  },
  {
   "cell_type": "markdown",
   "metadata": {},
   "source": [
    "### The code so far\n",
    "\n",
    "Let’s refactor the `Contact` code now, with the new wrapper types and modules added."
   ]
  },
  {
   "cell_type": "code",
   "execution_count": 50,
   "metadata": {},
   "outputs": [],
   "source": [
    "module EmailAddress = \n",
    "\n",
    "    type T = EmailAddress of string\n",
    "\n",
    "    // create with continuation\n",
    "    let createWithCont success failure (s:string) = \n",
    "        if System.Text.RegularExpressions.Regex.IsMatch(s,@\"^\\S+@\\S+\\.\\S+$\") \n",
    "            then success (EmailAddress s)\n",
    "            else failure \"Email address must contain an @ sign\"\n",
    "\n",
    "    // create directly\n",
    "    let create s = \n",
    "        let success e = Some e\n",
    "        let failure _  = None\n",
    "        createWithCont success failure s\n",
    "\n",
    "    // unwrap with continuation\n",
    "    let apply f (EmailAddress e) = f e\n",
    "\n",
    "    // unwrap directly\n",
    "    let value e = apply id e\n",
    "\n",
    "module ZipCode = \n",
    "\n",
    "    type T = ZipCode of string\n",
    "\n",
    "    // create with continuation\n",
    "    let createWithCont success failure  (s:string) = \n",
    "        if System.Text.RegularExpressions.Regex.IsMatch(s,@\"^\\d{5}$\") \n",
    "            then success (ZipCode s) \n",
    "            else failure \"Zip code must be 5 digits\"\n",
    "    \n",
    "    // create directly\n",
    "    let create s = \n",
    "        let success e = Some e\n",
    "        let failure _  = None\n",
    "        createWithCont success failure s\n",
    "\n",
    "    // unwrap with continuation\n",
    "    let apply f (ZipCode e) = f e\n",
    "\n",
    "    // unwrap directly\n",
    "    let value e = apply id e\n",
    "\n",
    "module StateCode = \n",
    "\n",
    "    type T = StateCode of string\n",
    "\n",
    "    // create with continuation\n",
    "    let createWithCont success failure  (s:string) = \n",
    "        let s' = s.ToUpper()\n",
    "        let stateCodes = [\"AZ\";\"CA\";\"NY\"] //etc\n",
    "        if stateCodes |> List.exists ((=) s')\n",
    "            then success (StateCode s') \n",
    "            else failure \"State is not in list\"\n",
    "    \n",
    "    // create directly\n",
    "    let create s = \n",
    "        let success e = Some e\n",
    "        let failure _  = None\n",
    "        createWithCont success failure s\n",
    "\n",
    "    // unwrap with continuation\n",
    "    let apply f (StateCode e) = f e\n",
    "\n",
    "    // unwrap directly\n",
    "    let value e = apply id e\n",
    "\n",
    "type PersonalName = \n",
    "    {\n",
    "        FirstName: string;\n",
    "        MiddleInitial: string option;\n",
    "        LastName: string;\n",
    "    }\n",
    "\n",
    "type EmailContactInfo = \n",
    "    {\n",
    "        EmailAddress: EmailAddress.T;\n",
    "        IsEmailVerified: bool;\n",
    "    }\n",
    "\n",
    "type PostalAddress = \n",
    "    {\n",
    "        Address1: string;\n",
    "        Address2: string;\n",
    "        City: string;\n",
    "        State: StateCode.T;\n",
    "        Zip: ZipCode.T;\n",
    "    }\n",
    "\n",
    "type PostalContactInfo = \n",
    "    {\n",
    "        Address: PostalAddress;\n",
    "        IsAddressValid: bool;\n",
    "    }\n",
    "\n",
    "type Contact = \n",
    "    {\n",
    "        Name: PersonalName;\n",
    "        EmailContactInfo: EmailContactInfo;\n",
    "        PostalContactInfo: PostalContactInfo;\n",
    "    }\n"
   ]
  },
  {
   "cell_type": "markdown",
   "metadata": {},
   "source": [
    "By the way, notice that we now have quite a lot of duplicate code in the three wrapper type modules. What would be a good way of getting rid of it, or at least making it cleaner?\n",
    "\n",
    "### Summary\n",
    "To sum up the use of discriminated unions, here are some guidelines:\n",
    "\n",
    "- Do use single case discriminated unions to create types that represent the domain accurately.\n",
    "- If the wrapped value needs validation, then provide constructors that do the validation and enforce their use.\n",
    "- Be clear what happens when validation fails. In simple cases, return option types. In more complex cases, let the caller pass in handlers for success and failure.\n",
    "- If the wrapped value has many associated functions, consider moving it into its own module.\n",
    "- If you need to enforce encapsulation, use signature files.\n",
    "\n",
    "We’re still not done with refactoring. We can alter the design of types to enforce business rules at compile time – making illegal states unrepresentable."
   ]
  }
 ],
 "metadata": {
  "kernelspec": {
   "display_name": ".NET (F#)",
   "language": "F#",
   "name": ".net-fsharp"
  },
  "language_info": {
   "file_extension": ".fs",
   "mimetype": "text/x-fsharp",
   "name": "C#",
   "pygments_lexer": "fsharp",
   "version": "4.5"
  }
 },
 "nbformat": 4,
 "nbformat_minor": 4
}
