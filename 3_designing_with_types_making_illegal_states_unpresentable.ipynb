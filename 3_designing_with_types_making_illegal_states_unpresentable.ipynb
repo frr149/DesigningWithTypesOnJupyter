{
 "cells": [
  {
   "cell_type": "markdown",
   "metadata": {},
   "source": [
    "# Designing with types: Making illegal states unrepresentable\n",
    "##### Encoding business logic in types\n",
    "\n",
    "n this post, we look at a key benefit of F#, which using the type system to “make illegal states unrepresentable” (a phrase borrowed from Yaron Minsky).\n",
    "\n",
    "Let’s look at our Contact type. Thanks to the previous refactoring, it is quite simple:"
   ]
  },
  {
   "cell_type": "code",
   "execution_count": 3,
   "metadata": {},
   "outputs": [],
   "source": [
    "module EmailAddress = \n",
    "\n",
    "    type T = EmailAddress of string\n",
    "\n",
    "    // create with continuation\n",
    "    let createWithCont success failure (s:string) = \n",
    "        if System.Text.RegularExpressions.Regex.IsMatch(s,@\"^\\S+@\\S+\\.\\S+$\") \n",
    "            then success (EmailAddress s)\n",
    "            else failure \"Email address must contain an @ sign\"\n",
    "\n",
    "    // create directly\n",
    "    let create s = \n",
    "        let success e = Some e\n",
    "        let failure _  = None\n",
    "        createWithCont success failure s\n",
    "\n",
    "    // unwrap with continuation\n",
    "    let apply f (EmailAddress e) = f e\n",
    "\n",
    "    // unwrap directly\n",
    "    let value e = apply id e\n",
    "\n",
    "module ZipCode = \n",
    "\n",
    "    type T = ZipCode of string\n",
    "\n",
    "    // create with continuation\n",
    "    let createWithCont success failure  (s:string) = \n",
    "        if System.Text.RegularExpressions.Regex.IsMatch(s,@\"^\\d{5}$\") \n",
    "            then success (ZipCode s) \n",
    "            else failure \"Zip code must be 5 digits\"\n",
    "    \n",
    "    // create directly\n",
    "    let create s = \n",
    "        let success e = Some e\n",
    "        let failure _  = None\n",
    "        createWithCont success failure s\n",
    "\n",
    "    // unwrap with continuation\n",
    "    let apply f (ZipCode e) = f e\n",
    "\n",
    "    // unwrap directly\n",
    "    let value e = apply id e\n",
    "\n",
    "module StateCode = \n",
    "\n",
    "    type T = StateCode of string\n",
    "\n",
    "    // create with continuation\n",
    "    let createWithCont success failure  (s:string) = \n",
    "        let s' = s.ToUpper()\n",
    "        let stateCodes = [\"AZ\";\"CA\";\"NY\"] //etc\n",
    "        if stateCodes |> List.exists ((=) s')\n",
    "            then success (StateCode s') \n",
    "            else failure \"State is not in list\"\n",
    "    \n",
    "    // create directly\n",
    "    let create s = \n",
    "        let success e = Some e\n",
    "        let failure _  = None\n",
    "        createWithCont success failure s\n",
    "\n",
    "    // unwrap with continuation\n",
    "    let apply f (StateCode e) = f e\n",
    "\n",
    "    // unwrap directly\n",
    "    let value e = apply id e\n",
    "\n",
    "type PersonalName = \n",
    "    {\n",
    "        FirstName: string;\n",
    "        MiddleInitial: string option;\n",
    "        LastName: string;\n",
    "    }\n",
    "\n",
    "type EmailContactInfo = \n",
    "    {\n",
    "        EmailAddress: EmailAddress.T;\n",
    "        IsEmailVerified: bool;\n",
    "    }\n",
    "\n",
    "type PostalAddress = \n",
    "    {\n",
    "        Address1: string;\n",
    "        Address2: string;\n",
    "        City: string;\n",
    "        State: StateCode.T;\n",
    "        Zip: ZipCode.T;\n",
    "    }\n",
    "\n",
    "type PostalContactInfo = \n",
    "    {\n",
    "        Address: PostalAddress;\n",
    "        IsAddressValid: bool;\n",
    "    }\n",
    "\n",
    "type Contact = \n",
    "    {\n",
    "        Name: PersonalName;\n",
    "        EmailContactInfo: EmailContactInfo;\n",
    "        PostalContactInfo: PostalContactInfo;\n",
    "    }\n"
   ]
  },
  {
   "cell_type": "markdown",
   "metadata": {},
   "source": [
    "Now let’s say that we have the following simple business rule: “A contact must have an email or a postal address”. Does our type conform to this rule?\n",
    "\n",
    "The answer is no. The business rule implies that a contact might have an email address but no postal address, or vice versa. But as it stands, our type requires that a contact must always have both pieces of information.\n",
    "\n",
    "The answer seems obvious – make the addresses optional, like this:"
   ]
  },
  {
   "cell_type": "code",
   "execution_count": 4,
   "metadata": {},
   "outputs": [],
   "source": [
    "type Contact = \n",
    "    {\n",
    "        Name: PersonalName;\n",
    "        EmailContactInfo: EmailContactInfo option;\n",
    "        PostalContactInfo: PostalContactInfo option;\n",
    "    }"
   ]
  },
  {
   "cell_type": "markdown",
   "metadata": {},
   "source": [
    "But now we have gone too far the other way. In this design, it would be possible for a contact to have neither type of address at all. But the business rule says that at least one piece of information must be present.\n",
    "\n",
    "What’s the solution?\n",
    "\n",
    "### Making illegal states unrepresentable\n",
    "\n",
    "If we think about the business rule carefully, we realize that there are three possibilities:\n",
    "\n",
    "- A contact only has an email address\n",
    "- A contact only has a postal address\n",
    "- A contact has both a email address and a postal address\n",
    "\n",
    "Once it is put like this, the solution becomes obvious – use a union type with a case for each possibility."
   ]
  },
  {
   "cell_type": "code",
   "execution_count": 6,
   "metadata": {},
   "outputs": [],
   "source": [
    "type ContactInfo = \n",
    "    | EmailOnly of EmailContactInfo\n",
    "    | PostOnly of PostalContactInfo\n",
    "    | EmailAndPost of EmailContactInfo * PostalContactInfo\n",
    "\n",
    "type Contact = \n",
    "    {\n",
    "        Name: PersonalName;\n",
    "        ContactInfo: ContactInfo;\n",
    "    }"
   ]
  },
  {
   "cell_type": "markdown",
   "metadata": {},
   "source": [
    "This design meets the requirements perfectly. All three cases are explicitly represented, and the fourth possible case (with no email or postal address at all) is not allowed.\n",
    "\n",
    "Note that for the “email and post” case, I just used a tuple type for now. It’s perfectly adequate for what we need.\n",
    "\n",
    "### Constructing a ContactInfo\n",
    "Now let’s see how we might use this in practice. We’ll start by creating a new contact:"
   ]
  },
  {
   "cell_type": "code",
   "execution_count": 7,
   "metadata": {},
   "outputs": [],
   "source": [
    "let contactFromEmail name emailStr = \n",
    "    let emailOpt = EmailAddress.create emailStr\n",
    "    // handle cases when email is valid or invalid\n",
    "    match emailOpt with\n",
    "    | Some email -> \n",
    "        let emailContactInfo = \n",
    "            {EmailAddress=email; IsEmailVerified=false}\n",
    "        let contactInfo = EmailOnly emailContactInfo \n",
    "        Some {Name=name; ContactInfo=contactInfo}\n",
    "    | None -> None\n",
    "\n",
    "let name = {FirstName = \"A\"; MiddleInitial=None; LastName=\"Smith\"}\n",
    "let contactOpt = contactFromEmail name \"abc@example.com\""
   ]
  },
  {
   "cell_type": "markdown",
   "metadata": {},
   "source": [
    "In this code, we have created a simple helper function contactFromEmail to create a new contact by passing in a name and email. However, the email might not be valid, so the function has to handle both cases, which it does by returning a `Contact option`, not a `Contact`\n",
    "\n",
    "### Updating a ContactInfo\n",
    "\n",
    "Now if we need to add a postal address to an existing ContactInfo, we have no choice but to handle all three possible cases:\n",
    "\n",
    "- If a contact previously only had an email address, it now has both an email address and a postal address, so return a contact using the EmailAndPost case.\n",
    "- If a contact previously only had a postal address, return a contact using the PostOnly case, replacing the existing address.\n",
    "- If a contact previously had both an email address and a postal address, return a contact with using the EmailAndPost case, replacing the existing address.\n",
    "\n",
    "So here’s a helper method that updates the postal address. You can see how it explicitly handles each case."
   ]
  },
  {
   "cell_type": "code",
   "execution_count": 8,
   "metadata": {},
   "outputs": [],
   "source": [
    "let updatePostalAddress contact newPostalAddress = \n",
    "    let {Name=name; ContactInfo=contactInfo} = contact\n",
    "    let newContactInfo =\n",
    "        match contactInfo with\n",
    "        | EmailOnly email ->\n",
    "            EmailAndPost (email,newPostalAddress) \n",
    "        | PostOnly _ -> // ignore existing address\n",
    "            PostOnly newPostalAddress \n",
    "        | EmailAndPost (email,_) -> // ignore existing address\n",
    "            EmailAndPost (email,newPostalAddress) \n",
    "    // make a new contact\n",
    "    {Name=name; ContactInfo=newContactInfo}"
   ]
  },
  {
   "cell_type": "markdown",
   "metadata": {},
   "source": [
    "And here is the code in use:"
   ]
  },
  {
   "cell_type": "code",
   "execution_count": 9,
   "metadata": {},
   "outputs": [],
   "source": [
    "let contact = contactOpt.Value   // see warning about option.Value below\n",
    "let newPostalAddress = \n",
    "    let state = StateCode.create \"CA\"\n",
    "    let zip = ZipCode.create \"97210\"\n",
    "    {   \n",
    "        Address = \n",
    "            {\n",
    "            Address1= \"123 Main\";\n",
    "            Address2=\"\";\n",
    "            City=\"Beverly Hills\";\n",
    "            State=state.Value; // see warning about option.Value below\n",
    "            Zip=zip.Value;     // see warning about option.Value below\n",
    "            }; \n",
    "        IsAddressValid=false\n",
    "    }\n",
    "let newContact = updatePostalAddress contact newPostalAddress\n"
   ]
  },
  {
   "cell_type": "markdown",
   "metadata": {},
   "source": [
    "> WARNING: I am using option.Value to extract the contents of an option in this code. This is ok when playing around interactively but is extremely bad practice in production code! You should always use matching to handle both cases of an option.\n",
    "\n",
    "\n",
    "### Why bother to make these complicated types? \n",
    "At this point, you might be saying that we have made things unnecessarily complicated. I would answer with these points:\n",
    "\n",
    "First, the business logic is complicated. There is no easy way to avoid it. If your code is not this complicated, you are not handling all the cases properly.\n",
    "\n",
    "Second, if the logic is represented by types, it is automatically self documenting. You can look at the union cases below and immediate see what the business rule is. You do not have to spend any time trying to analyze any other code.\n"
   ]
  },
  {
   "cell_type": "code",
   "execution_count": 10,
   "metadata": {},
   "outputs": [],
   "source": [
    "type ContactInfo = \n",
    "    | EmailOnly of EmailContactInfo\n",
    "    | PostOnly of PostalContactInfo\n",
    "    | EmailAndPost of EmailContactInfo * PostalContactInfo"
   ]
  },
  {
   "cell_type": "markdown",
   "metadata": {},
   "source": [
    "Finally, if the logic is represented by a type, any changes to the business rules will immediately create breaking changes, which is a generally a good thing.\n",
    "\n",
    "In the next post, we’ll dig deeper into the last point. As you try to represent business logic using types, you may suddenly find that can gain a whole new insight into the domain.\n"
   ]
  }
 ],
 "metadata": {
  "kernelspec": {
   "display_name": ".NET (F#)",
   "language": "F#",
   "name": ".net-fsharp"
  },
  "language_info": {
   "file_extension": ".fs",
   "mimetype": "text/x-fsharp",
   "name": "C#",
   "pygments_lexer": "fsharp",
   "version": "4.5"
  }
 },
 "nbformat": 4,
 "nbformat_minor": 4
}
