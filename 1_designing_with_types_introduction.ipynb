{
 "cells": [
  {
   "cell_type": "markdown",
   "metadata": {},
   "source": [
    "# Designing with types: Introduction\n",
    "##### Making design more transparent and improving correctness\n",
    "\n",
    "\n",
    "In this series, we’ll look at some of the ways we can use types as part of the design process. In particular, the thoughtful use of types can make a design more transparent and improve correctness at the same time.\n",
    "\n",
    "This series will be focused on the “micro level” of design. That is, working at the lowest level of individual types and functions. Higher level design approaches, and the associated decisions about using functional or object-oriented style, will be discussed in another series.\n",
    "\n",
    "Many of the suggestions are also feasible in C# or Java, but the lightweight nature of F# types means that it is much more likely that we will do this kind of refactoring.\n",
    "\n",
    "### A basic example \n",
    "\n",
    "For demonstration of the various uses of types, I’ll work with a very straightforward example, namely a `Contact type`, such as the one below."
   ]
  },
  {
   "cell_type": "code",
   "execution_count": 2,
   "metadata": {},
   "outputs": [],
   "source": [
    "type Contact = \n",
    "    {\n",
    "        FirstName: string;\n",
    "        MiddleInitial: string;\n",
    "        LastName: string;\n",
    "\n",
    "        EmailAddress: string;\n",
    "        //true if ownership of email address is confirmed\n",
    "        IsEmailVerified: bool;\n",
    "\n",
    "        Address1: string;\n",
    "        Address2: string;\n",
    "        City: string;\n",
    "        State: string;\n",
    "        Zip: string;\n",
    "        //true if validated against address service\n",
    "        IsAddressValid: bool; \n",
    "    }\n",
    "\n"
   ]
  },
  {
   "cell_type": "markdown",
   "metadata": {},
   "source": [
    "This seems very obvious – I’m sure we have all seen something like this many times. So what can we do with it? How can we refactor this to make the most of the type system?\n",
    "\n",
    "### Creating “atomic” types\n",
    "The first thing to do is to look at the usage pattern of data access and updates. For example, would be it be likely that Zip is updated without also updating Address1 at the same time? On the other hand, it might be common that a transaction updates `EmailAddress` but not `FirstName`.\n",
    "\n",
    "This leads to the first guideline:\n",
    "- Guideline: Use records or tuples to group together data that are required to be consistent (that is “atomic”) but don’t needlessly group together data that is not related.\n",
    "\n",
    "In this case, it is fairly obvious that the three name values are a set, the address values are a set, and the email is also a set.\n",
    "\n",
    "We have also some extra flags here, such as `IsAddressValid` and `IsEmailVerified`. Should these be part of the related set or not? Certainly yes for now, because the flags are dependent on the related values.\n",
    "\n",
    "For example, if the `EmailAddress` changes, then `IsEmailVerified` probably needs to be reset to false at the same time.\n",
    "\n",
    "For `PostalAddress`, it seems clear that the core “address” part is a useful common type, without the `IsAddressValid` flag. On the other hand, the IsAddressValid is associated with the address, and will be updated when it changes.\n",
    "\n",
    "So it seems that we should create two types. One is a generic `PostalAddress` and the other is an address in the context of a contact, which we can call `PostalContactInfo`, say."
   ]
  },
  {
   "cell_type": "code",
   "execution_count": 3,
   "metadata": {},
   "outputs": [],
   "source": [
    "type PostalAddress = \n",
    "    {\n",
    "        Address1: string;\n",
    "        Address2: string;\n",
    "        City: string;\n",
    "        State: string;\n",
    "        Zip: string;\n",
    "    }\n",
    "\n",
    "type PostalContactInfo = \n",
    "    {\n",
    "        Address: PostalAddress;\n",
    "        IsAddressValid: bool;\n",
    "    }"
   ]
  },
  {
   "cell_type": "markdown",
   "metadata": {},
   "source": [
    "Finally, we can use the option type to signal that certain values, such as MiddleInitial, are indeed optional."
   ]
  },
  {
   "cell_type": "code",
   "execution_count": 4,
   "metadata": {},
   "outputs": [],
   "source": [
    "type PersonalName = \n",
    "    {\n",
    "        FirstName: string;\n",
    "        // use \"option\" to signal optionality\n",
    "        MiddleInitial: string option;\n",
    "        LastName: string;\n",
    "    }"
   ]
  },
  {
   "cell_type": "markdown",
   "metadata": {},
   "source": [
    "### Summary\n",
    "With all these changes, we now have the following code:\n"
   ]
  },
  {
   "cell_type": "code",
   "execution_count": 6,
   "metadata": {},
   "outputs": [],
   "source": [
    "type PersonalName = \n",
    "    {\n",
    "        FirstName: string;\n",
    "        // use \"option\" to signal optionality\n",
    "        MiddleInitial: string option;\n",
    "        LastName: string;\n",
    "    }\n",
    "\n",
    "type EmailContactInfo = \n",
    "    {\n",
    "        EmailAddress: string;\n",
    "        IsEmailVerified: bool;\n",
    "    }\n",
    "\n",
    "type PostalAddress = \n",
    "    {\n",
    "        Address1: string;\n",
    "        Address2: string;\n",
    "        City: string;\n",
    "        State: string;\n",
    "        Zip: string;\n",
    "    }\n",
    "\n",
    "type PostalContactInfo = \n",
    "    {\n",
    "        Address: PostalAddress;\n",
    "        IsAddressValid: bool;\n",
    "    }\n",
    "\n",
    "type Contact = \n",
    "    {\n",
    "        Name: PersonalName;\n",
    "        EmailContactInfo: EmailContactInfo;\n",
    "        PostalContactInfo: PostalContactInfo;\n",
    "    }\n"
   ]
  },
  {
   "cell_type": "markdown",
   "metadata": {},
   "source": [
    "We haven’t written a single function yet, but already the code represents the domain better. However, this is just the beginning of what we can do.\n",
    "\n",
    "Next up, using single case unions to add semantic meaning to primitive types."
   ]
  }
 ],
 "metadata": {
  "kernelspec": {
   "display_name": ".NET (F#)",
   "language": "F#",
   "name": ".net-fsharp"
  },
  "language_info": {
   "file_extension": ".fs",
   "mimetype": "text/x-fsharp",
   "name": "C#",
   "pygments_lexer": "fsharp",
   "version": "4.5"
  }
 },
 "nbformat": 4,
 "nbformat_minor": 4
}
